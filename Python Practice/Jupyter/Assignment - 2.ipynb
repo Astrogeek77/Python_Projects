{
 "cells": [
  {
   "cell_type": "code",
   "execution_count": 6,
   "id": "b8c0dd8b",
   "metadata": {},
   "outputs": [
    {
     "name": "stdout",
     "output_type": "stream",
     "text": [
      "[17, 7, 8, 7, 9, 3, 5, 4, 1, 0, 11, 12, 2]\n"
     ]
    }
   ],
   "source": [
    "# 1. Interchange the first and second last element of the list.\n",
    "\n",
    "#     List = [2,7,8,7,9,3,5,4,1,0,11,12,17]\n",
    "\n",
    "def swapEnds(list):\n",
    "    size = len(list)\n",
    "    \n",
    "    temp = list[0]\n",
    "    list[0] = list[size - 1]\n",
    "    list[size - 1] = temp\n",
    "    \n",
    "    return list\n",
    "    \n",
    "List = [2,7,8,7,9,3,5,4,1,0,11,12,17]\n",
    "print(swapEnds(List))"
   ]
  },
  {
   "cell_type": "code",
   "execution_count": null,
   "id": "cb76bbee",
   "metadata": {},
   "outputs": [],
   "source": []
  }
 ],
 "metadata": {
  "kernelspec": {
   "display_name": "Python 3 (ipykernel)",
   "language": "python",
   "name": "python3"
  },
  "language_info": {
   "codemirror_mode": {
    "name": "ipython",
    "version": 3
   },
   "file_extension": ".py",
   "mimetype": "text/x-python",
   "name": "python",
   "nbconvert_exporter": "python",
   "pygments_lexer": "ipython3",
   "version": "3.9.6"
  }
 },
 "nbformat": 4,
 "nbformat_minor": 5
}
