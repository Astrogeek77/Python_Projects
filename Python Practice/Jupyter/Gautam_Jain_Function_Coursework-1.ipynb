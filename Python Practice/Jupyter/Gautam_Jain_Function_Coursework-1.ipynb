{
 "cells": [
  {
   "cell_type": "code",
   "execution_count": 3,
   "id": "97f917fc",
   "metadata": {},
   "outputs": [
    {
     "name": "stdout",
     "output_type": "stream",
     "text": [
      "Enter the value of n: 3\n",
      "3th digit in Fibonacci Series is  2\n"
     ]
    }
   ],
   "source": [
    "#Question 1. Write a program to print the n\n",
    "# th Fibonacci number using function\n",
    "# The Fibonacci numbers are the numbers in the following integer\n",
    "# sequence.\n",
    "# 0, 1, 1, 2, 3, 5, 8, 13, 21, 34, 55, 89, 144, ……..\n",
    "# Fn = Fn-1 + Fn-2\n",
    "# Example- input = 3\n",
    "# Output = 2\n",
    "\n",
    "def fibonacci(n):\n",
    "    a = 0\n",
    "    b = 1\n",
    "    if n < 0:\n",
    "        print(\"Invalid input\")\n",
    "    elif n == 0:\n",
    "        return a\n",
    "    elif n == 1:\n",
    "        return b\n",
    "    else:\n",
    "        for i in range(2, n + 1):\n",
    "            c = a + b\n",
    "            a = b\n",
    "            b = c\n",
    "        return b\n",
    " \n",
    "num = int(input(\"Enter the value of n: \"))\n",
    "print(f\"{num}th digit in Fibonacci Series is \", fibonacci(num))"
   ]
  },
  {
   "cell_type": "code",
   "execution_count": 4,
   "id": "dc845166",
   "metadata": {},
   "outputs": [
    {
     "name": "stdout",
     "output_type": "stream",
     "text": [
      "Select operation.\n",
      "1.Add\n",
      "2.Subtract\n",
      "3.Multiply\n",
      "4.Divide\n",
      "Enter choice(1/2/3/4): 3\n",
      "Enter first number: 9\n",
      "Enter second number: 9\n",
      "9.0 * 9.0 = 81.0\n",
      "Continue Calculating? (yes/no): no\n"
     ]
    }
   ],
   "source": [
    "# Question 2. Write a program of calculator for basic calculation using functions\n",
    "\n",
    "\n",
    "def add(x, y):\n",
    "    return x + y\n",
    "\n",
    "def subtract(x, y):\n",
    "    return x - y\n",
    "\n",
    "def multiply(x, y):\n",
    "    return x * y\n",
    "\n",
    "def divide(x, y):\n",
    "    return x / y\n",
    "\n",
    "\n",
    "print(\"Select operation.\")\n",
    "print(\"1.Add\")\n",
    "print(\"2.Subtract\")\n",
    "print(\"3.Multiply\")\n",
    "print(\"4.Divide\")\n",
    "\n",
    "while True:\n",
    "    choice = input(\"Enter choice(1/2/3/4): \")\n",
    "\n",
    "    if choice in ('1', '2', '3', '4'):\n",
    "        num1 = float(input(\"Enter first number: \"))\n",
    "        num2 = float(input(\"Enter second number: \"))\n",
    "\n",
    "        if choice == '1':\n",
    "            print(num1, \"+\", num2, \"=\", add(num1, num2))\n",
    "\n",
    "        elif choice == '2':\n",
    "            print(num1, \"-\", num2, \"=\", subtract(num1, num2))\n",
    "\n",
    "        elif choice == '3':\n",
    "            print(num1, \"*\", num2, \"=\", multiply(num1, num2))\n",
    "\n",
    "        elif choice == '4':\n",
    "            print(num1, \"/\", num2, \"=\", divide(num1, num2))\n",
    "        \n",
    "    \n",
    "        next = input(\"Continue Calculating? (yes/no): \")\n",
    "        if next == \"no\":\n",
    "          break\n",
    "    \n",
    "    else:\n",
    "        print(\"Invalid choice\")"
   ]
  },
  {
   "cell_type": "code",
   "execution_count": 12,
   "id": "469657ab",
   "metadata": {},
   "outputs": [
    {
     "name": "stdout",
     "output_type": "stream",
     "text": [
      "5 -5\n",
      "Number of pairs with sum 0 are:  1\n"
     ]
    }
   ],
   "source": [
    "#Question 3. An array of integers is given, both +ve and -ve. You need to find\n",
    "# the two elements such that their sum is zero using function\n",
    "\n",
    "def getPairsCount(arr, n, sum):\n",
    " \n",
    "    count = 0  \n",
    "    \n",
    "    for i in range(0, n):\n",
    "        for j in range(i + 1, n):\n",
    "            if arr[i] + arr[j] == sum:\n",
    "                count += 1\n",
    "                print(arr[i], end=\" \")\n",
    "                print(arr[j], end=\"\\n\")\n",
    " \n",
    "    return count\n",
    " \n",
    " \n",
    "arr = [1, 5, 7, -2, -5]\n",
    "n = len(arr)\n",
    "sum = 0\n",
    "print(f\"Number of pairs with sum {sum} are: \",\n",
    "      getPairsCount(arr, n, sum))"
   ]
  },
  {
   "cell_type": "code",
   "execution_count": 17,
   "id": "ab3e3855",
   "metadata": {},
   "outputs": [
    {
     "name": "stdout",
     "output_type": "stream",
     "text": [
      "0 + -1 + 1 = 0\n",
      "[0, -1, 1]\n"
     ]
    }
   ],
   "source": [
    "# Question 4. Given an array of distinct elements. The task is to find triplets in\n",
    "# the array whose sum is zero using function.\n",
    "# Example: input : [0, -2, 1, -3, 1]\n",
    "# output : [-2, 1, 1]\n",
    "\n",
    "def findTriplets(arr, n):\n",
    " \n",
    "    found = False\n",
    "    for i in range(0, n-2):\n",
    "     \n",
    "        for j in range(i+1, n-1):\n",
    "         \n",
    "            for k in range(j+1, n):\n",
    "             \n",
    "                if (arr[i] + arr[j] + arr[k] == 0):\n",
    "                    print(arr[i], \"+\", arr[j], \"+\", arr[k], \"= 0\")\n",
    "                    found = True\n",
    "                    return [arr[i], arr[j], arr[k]]\n",
    "     \n",
    "    if (found == False):\n",
    "        print(\" not exist \")\n",
    " \n",
    "arr = [0, -1, 2, -3, 1]\n",
    "n = len(arr)\n",
    "print(findTriplets(arr, n))"
   ]
  },
  {
   "cell_type": "code",
   "execution_count": 42,
   "id": "f7711ea0",
   "metadata": {},
   "outputs": [
    {
     "name": "stdout",
     "output_type": "stream",
     "text": [
      "[ ['d'] ['a'] ['y'] ], \n",
      "[ ['c'] ['a'] ['t'] ], \n",
      "[ ['d'] ['o'] ['g'] ], \n"
     ]
    }
   ],
   "source": [
    "# Question 5. Write a program to convert each element of list into tuple\n",
    "# Example: input- [‘day’,’cat’,’dog’]\n",
    "# Output- [ [‘d’,’a’,’y’], [‘c’,’a’,’t’], [‘d’,’o’,’g’] ]\n",
    "# [hint: use map]\n",
    "\n",
    "def convert(list):\n",
    "    for i in range(0, len(list)):\n",
    "        print(\"[\", end=\" \")\n",
    "        for j in range(0, len(list[i])):\n",
    "            print(f\"['{list[i][j]}']\", end=\" \")\n",
    "        print(\"], \")\n",
    "  \n",
    "list = ['day','cat','dog']\n",
    "convert(list)"
   ]
  },
  {
   "cell_type": "code",
   "execution_count": 47,
   "id": "81fb053a",
   "metadata": {},
   "outputs": [
    {
     "name": "stdout",
     "output_type": "stream",
     "text": [
      "Enter a String: GautAm\n",
      "Numer of vowels in GautAm are:  3\n",
      "['a', 'u', 'A']\n"
     ]
    }
   ],
   "source": [
    "# Question 6. Write a program to find all vowels from a given string\n",
    "# Example : input: hello\n",
    "# Output:[‘e’,’o’]\n",
    "\n",
    "def show_Vowels(string, vowels):\n",
    "    final = [each for each in string if each in vowels]\n",
    "    print(f\"Numer of vowels in {string} are: \", len(final))\n",
    "    print(final)\n",
    "     \n",
    "string = input(\"Enter a String: \")\n",
    "vowels = \"AaEeIiOoUu\"\n",
    "show_Vowels(string, vowels);"
   ]
  },
  {
   "cell_type": "code",
   "execution_count": null,
   "id": "c98d287f",
   "metadata": {},
   "outputs": [],
   "source": [
    "# Name: Gautam Jain URN: 1905785 CRN: 1915312 Btech CSE C1"
   ]
  }
 ],
 "metadata": {
  "kernelspec": {
   "display_name": "Python 3 (ipykernel)",
   "language": "python",
   "name": "python3"
  },
  "language_info": {
   "codemirror_mode": {
    "name": "ipython",
    "version": 3
   },
   "file_extension": ".py",
   "mimetype": "text/x-python",
   "name": "python",
   "nbconvert_exporter": "python",
   "pygments_lexer": "ipython3",
   "version": "3.9.6"
  }
 },
 "nbformat": 4,
 "nbformat_minor": 5
}
