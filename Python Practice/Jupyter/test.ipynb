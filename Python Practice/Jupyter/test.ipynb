{
 "cells": [
  {
   "cell_type": "code",
   "execution_count": 1,
   "metadata": {},
   "outputs": [
    {
     "name": "stdout",
     "output_type": "stream",
     "text": [
      "Celebrity ID 3\n"
     ]
    }
   ],
   "source": [
    "#Question 1.  A celebrity is a person who is known to all but does not know anyone at a party. If you go to a party of N people, find if there is a celebrity in the party or not. \n",
    "# A square NxN matrix M[][] is used to represent people at the party such that if an element of row i and column j is set to 1 it means ith person knows jth person. Here M[i][i] will always be 0.\n",
    "\n",
    "N = 8\n",
    " \n",
    "MATRIX = [ [ 0, 0, 0, 1 ],\n",
    "           [ 0, 0, 0, 1 ],\n",
    "           [ 0, 0, 0, 1 ],\n",
    "           [ 0, 0, 0, 0 ] ]\n",
    "            \n",
    "def knows(a, b):\n",
    "     \n",
    "  return MATRIX[a][b]\n",
    " \n",
    "def findCelebrity(n):\n",
    "  \n",
    "    indegree = [0 for x in range(n)]\n",
    "    outdegree = [0 for x in range(n)]\n",
    "       \n",
    "    for i in range(n):\n",
    "        for j in range(n):\n",
    "            x = knows(i, j)\n",
    "               \n",
    "            outdegree[i] += x\n",
    "            indegree[j] += x\n",
    "       \n",
    "    for i in range(n):\n",
    "        if (indegree[i] == n - 1 and\n",
    "           outdegree[i] == 0):\n",
    "            return i\n",
    "             \n",
    "    return -1\n",
    "     \n",
    "if __name__ == '__main__':\n",
    "     \n",
    "    n = 4\n",
    "    id_ = findCelebrity(n)\n",
    "     \n",
    "    if id_ == -1:\n",
    "        print(\"No celebrity\")\n",
    "    else:\n",
    "        print(\"Celebrity ID\", id_)"
   ]
  },
  {
   "cell_type": "code",
   "execution_count": 3,
   "metadata": {},
   "outputs": [
    {
     "name": "stdout",
     "output_type": "stream",
     "text": [
      "Minimum number of jumps to reach end is 5\n"
     ]
    }
   ],
   "source": [
    "# Question 2: Create an array of N integers arr[] where each element represents the max number of steps that can be made forward from that element. Find the minimum number of jumps to reach the end of the array (starting from the first element). If an element is 0, then you cannot move through that element. \n",
    "\n",
    "def minJumps(arr, l, h):\n",
    "     \n",
    "    if (h == l):\n",
    "        return 0\n",
    " \n",
    "    if (arr[l] == 0):\n",
    "        return float('inf')\n",
    " \n",
    "    min = float('inf')\n",
    "    for i in range(l + 1, h + 1):\n",
    "        if (i < l + arr[l] + 1):\n",
    "            jumps = minJumps(arr, i, h)\n",
    "            if (jumps != float('inf') and\n",
    "                       jumps + 1 < min):\n",
    "                min = jumps + 1\n",
    " \n",
    "    return min\n",
    " \n",
    "arr = [1, 3, 1, 1, 1, 1, 1, 1]\n",
    "n = len(arr)\n",
    "print('Minimum number of jumps to reach',\n",
    "     'end is', minJumps(arr, 0, n-1))"
   ]
  },
  {
   "cell_type": "code",
   "execution_count": 4,
   "metadata": {},
   "outputs": [
    {
     "name": "stdout",
     "output_type": "stream",
     "text": [
      "100.20.3.400\n",
      "1.200.1.4\n"
     ]
    }
   ],
   "source": [
    "# Question 3.  Write a program to remove leading zeros following “.“ from an IP address\n",
    "\n",
    "import re \n",
    "  \n",
    "# function to remove leading zeros\n",
    "def removeZeros(ip):\n",
    "    new_ip = re.sub(r'\\b0+(\\d)', r'\\1', ip)   \n",
    "    return new_ip \n",
    "      \n",
    "ip =\"100.020.003.400\"  \n",
    "print(removeZeros(ip))\n",
    "  \n",
    "ip =\"001.200.001.004\"\n",
    "print(removeZeros(ip))"
   ]
  },
  {
   "cell_type": "code",
   "execution_count": null,
   "metadata": {},
   "outputs": [],
   "source": [
    "# Question 4. \n",
    "\n"
   ]
  },
  {
   "cell_type": "code",
   "execution_count": 5,
   "metadata": {},
   "outputs": [
    {
     "name": "stdout",
     "output_type": "stream",
     "text": [
      "Number of islands is:\n",
      "5\n"
     ]
    }
   ],
   "source": [
    "# Question 5. Given a 2d grid map of '1's (land) and '0's (water), count the number of islands. An island is surrounded by water and is formed by connecting adjacent lands horizontally or vertically. You may assume all four edges of the grid are all surrounded by water.\n",
    "\n",
    "class Graph:\n",
    "      \n",
    "    def __init__(self, row, col, g):\n",
    "        self.ROW = row\n",
    "        self.COL = col\n",
    "        self.graph = g\n",
    "  \n",
    "    def isSafe(self, i, j, visited):\n",
    "        return (i >= 0 and i < self.ROW and \n",
    "                j >= 0 and j < self.COL and \n",
    "                not visited[i][j] and self.graph[i][j])\n",
    "              \n",
    "  \n",
    "    def DFS(self, i, j, visited):\n",
    "  \n",
    "        rowNbr = [-1, -1, -1,  0, 0,  1, 1, 1];\n",
    "        colNbr = [-1,  0,  1, -1, 1, -1, 0, 1];\n",
    "          \n",
    "        # Mark this cell as visited\n",
    "        visited[i][j] = True\n",
    "  \n",
    "        # Recur for all connected neighbours\n",
    "        for k in range(8):\n",
    "            if self.isSafe(i + rowNbr[k], j + colNbr[k], visited):\n",
    "                self.DFS(i + rowNbr[k], j + colNbr[k], visited)\n",
    "  \n",
    "  \n",
    "    def countIslands(self):\n",
    "        visited = [[False for j in range(self.COL)]for i in range(self.ROW)]\n",
    "        count = 0\n",
    "        for i in range(self.ROW):\n",
    "            for j in range(self.COL):\n",
    "                if visited[i][j] == False and self.graph[i][j] == 1:\n",
    "                    self.DFS(i, j, visited)\n",
    "                    count += 1\n",
    "  \n",
    "        return count\n",
    "  \n",
    "  \n",
    "graph = [[1, 1, 0, 0, 0],\n",
    "        [0, 1, 0, 0, 1],\n",
    "        [1, 0, 0, 1, 1],\n",
    "        [0, 0, 0, 0, 0],\n",
    "        [1, 0, 1, 0, 1]]\n",
    "  \n",
    "  \n",
    "row = len(graph)\n",
    "col = len(graph[0])\n",
    "  \n",
    "g = Graph(row, col, graph)\n",
    "  \n",
    "print(\"Number of islands is:\")\n",
    "print(g.countIslands())"
   ]
  },
  {
   "cell_type": "code",
   "execution_count": 8,
   "metadata": {},
   "outputs": [
    {
     "name": "stdout",
     "output_type": "stream",
     "text": [
      "True\n",
      "False\n"
     ]
    }
   ],
   "source": [
    "# Question 6: Write a function that takes in an array of integers and returns a boolean representing whether the array is monotonic or not.\n",
    "\n",
    "def isMonotonic(A):\n",
    "      \n",
    "    return (all(A[i] <= A[i + 1] for i in range(len(A) - 1)) or\n",
    "            all(A[i] >= A[i + 1] for i in range(len(A) - 1)))\n",
    "  \n",
    "A = [5, 6, 7, 8]\n",
    "B = [5, 6, 8, 7]\n",
    "  \n",
    "print(isMonotonic(A))\n",
    "print(isMonotonic(B))"
   ]
  },
  {
   "cell_type": "code",
   "execution_count": 9,
   "metadata": {},
   "outputs": [
    {
     "name": "stdout",
     "output_type": "stream",
     "text": [
      "11\n"
     ]
    }
   ],
   "source": [
    "# Question 7: Given an array arr[] with N elements, the task is to find out the longest subarray which has the shape of a mountain.\n",
    "\n",
    "def LongestMountain(a):\n",
    "     \n",
    "    i = 0\n",
    "    j = -1\n",
    "    k = -1\n",
    "    p = 0\n",
    "    d = 0\n",
    "    n = 0\n",
    "     \n",
    "    if (len(a) < 3):\n",
    "        return 0\n",
    "         \n",
    "    for i in range(len(a) - 1):\n",
    "        if (a[i + 1] > a[i]):           \n",
    "            if (k != -1):\n",
    "                k = -1\n",
    "                j = -1\n",
    "            if (j == -1):\n",
    "                j = i\n",
    "        else:\n",
    "            if (a[i + 1] < a[i]):\n",
    "                if (j != -1):\n",
    "                    k = i + 1\n",
    "                if (k != -1 and j != -1):\n",
    "                    if (d < k - j + 1):\n",
    "                        d = k - j + 1\n",
    "            else:\n",
    "                k = -1\n",
    "                j = -1\n",
    "     \n",
    "\n",
    "    if (k != -1 and j != -1):\n",
    "        if (d < k - j + 1):\n",
    "            d = k - j + 1\n",
    "             \n",
    "    return d\n",
    " \n",
    "d = [ 1, 3, 1, 4, 5, 6,\n",
    "      7, 8, 9, 8, 7, 6, 5 ]\n",
    " \n",
    "print(LongestMountain(d))"
   ]
  }
 ],
 "metadata": {
  "interpreter": {
   "hash": "2be5faf79681da6f2a61fdfdd5405d65d042280f7fba6178067603e3a2925119"
  },
  "kernelspec": {
   "display_name": "Python 3.10.0 64-bit",
   "language": "python",
   "name": "python3"
  },
  "language_info": {
   "codemirror_mode": {
    "name": "ipython",
    "version": 3
   },
   "file_extension": ".py",
   "mimetype": "text/x-python",
   "name": "python",
   "nbconvert_exporter": "python",
   "pygments_lexer": "ipython3",
   "version": "3.10.0"
  },
  "orig_nbformat": 4
 },
 "nbformat": 4,
 "nbformat_minor": 2
}
