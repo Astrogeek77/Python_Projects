{
 "cells": [
  {
   "cell_type": "code",
   "execution_count": 6,
   "id": "b8c0dd8b",
   "metadata": {},
   "outputs": [
    {
     "name": "stdout",
     "output_type": "stream",
     "text": [
      "[17, 7, 8, 7, 9, 3, 5, 4, 1, 0, 11, 12, 2]\n"
     ]
    }
   ],
   "source": [
    "# 1. Interchange the first and second last element of the list.\n",
    "\n",
    "#     List = [2,7,8,7,9,3,5,4,1,0,11,12,17]\n",
    "\n",
    "def swapEnds(list):\n",
    "    size = len(list)\n",
    "    \n",
    "    temp = list[0]\n",
    "    list[0] = list[size - 1]\n",
    "    list[size - 1] = temp\n",
    "    \n",
    "    return list\n",
    "    \n",
    "List = [2,7,8,7,9,3,5,4,1,0,11,12,17]\n",
    "print(swapEnds(List))"
   ]
  },
  {
   "cell_type": "code",
   "execution_count": 4,
   "id": "cb76bbee",
   "metadata": {},
   "outputs": [
    {
     "name": "stdout",
     "output_type": "stream",
     "text": [
      "Fifth smallest element in list is ->  11\n"
     ]
    }
   ],
   "source": [
    "# 2. Find the fifth smallest number from the list.\n",
    "\n",
    "#    List: [11,2,67,6,26,5,4,76,77]\n",
    "\n",
    "list2 = [11,2,67,6,26,5,4,76,77]\n",
    "list2.sort()\n",
    "print(\"Fifth smallest element in list is -> \", list2[4])"
   ]
  },
  {
   "cell_type": "code",
   "execution_count": 5,
   "id": "42535343",
   "metadata": {},
   "outputs": [
    {
     "name": "stdout",
     "output_type": "stream",
     "text": [
      "[1, 3, 5, 8, 10, 9]\n",
      "[2, 7, 9]\n",
      "[1, 3, 5, 8, 10, 2, 7, 9]\n"
     ]
    }
   ],
   "source": [
    "# 3. Replace the last element in a list with another list.\n",
    "\n",
    "#     Original List: [1, 3, 5, 8, 10, 9]    List to add:  [2, 7, 9]\n",
    "\n",
    "#     Expected Output: [1, 3, 5, 8, 10, 2, 7, 9]\n",
    "\n",
    "list3 = [1, 3, 5, 8, 10, 9]\n",
    "list4 = [2, 7, 9]\n",
    "print(list3)\n",
    "print(list4)\n",
    "list3.pop()\n",
    "l1 = len(list4)\n",
    "for i in list4:\n",
    "    list3.append(i)\n",
    "print(list3)"
   ]
  },
  {
   "cell_type": "code",
   "execution_count": 6,
   "id": "aa5879b8",
   "metadata": {},
   "outputs": [
    {
     "name": "stdout",
     "output_type": "stream",
     "text": [
      "[12, 3, 4, 98, 100, 75]\n",
      "[3, 4, 12, 75, 98, 100, 3, 4, 12]\n"
     ]
    }
   ],
   "source": [
    "# 4. Sort the list and pickup first three values and append to the sorted list.\n",
    "\n",
    "#     List: [12,3,4,98,100,75]\n",
    "\n",
    "list5 = [12,3,4,98,100,75]\n",
    "print(list5)\n",
    "list5.sort()\n",
    "for i in range(3):\n",
    "    list5.append(list5[i]) \n",
    "print(list5)"
   ]
  },
  {
   "cell_type": "code",
   "execution_count": 9,
   "id": "51c193fe",
   "metadata": {},
   "outputs": [
    {
     "name": "stdout",
     "output_type": "stream",
     "text": [
      "[1, 2, 5, 8, 9, 10, 0]\n",
      "mean: 5\n",
      "Mean present\n"
     ]
    }
   ],
   "source": [
    "# 5. Find mean of items in the list and check whether mean is present in the list.\n",
    "\n",
    "#     List: [1, 2, 5, 8, 9, 10, 0].\n",
    "\n",
    "list6 = [1, 2, 5, 8, 9, 10, 0]\n",
    "print(list6)\n",
    "mean_found = False\n",
    "mean =  (int)( sum(list6) / len(list6) )\n",
    "print(\"mean:\", mean)\n",
    "for i in list6:\n",
    "    if(i == mean):\n",
    "        mean_found = True\n",
    "        break\n",
    "if(mean_found):\n",
    "    print(\"Mean present\")\n",
    "else:\n",
    "    print(\"Mean is not in the list\")"
   ]
  },
  {
   "cell_type": "code",
   "execution_count": 10,
   "id": "6ae59b42",
   "metadata": {},
   "outputs": [
    {
     "name": "stdout",
     "output_type": "stream",
     "text": [
      "String 1 -> Hello\n",
      "String 2 -> Ryan\n",
      "['Hello', 'Hello', 'Hello', 'Hello', 'Hello', 'Ryan', 'Ryan', 'Ryan', 'Ryan']\n"
     ]
    }
   ],
   "source": [
    "# 6. Given two strings, append each of those strings to two different empty list. Multiply those list by the length of the string present in the corresponding list and then concatenate the two lists.\n",
    "\n",
    "#     String 1: “Hello”  String 2: “Ryan”\n",
    "\n",
    "#     Expected Output: ['Hello', 'Hello', 'Hello', 'Hello', 'Hello', 'Ryan', 'Ryan', 'Ryan', 'Ryan']\n",
    "\n",
    "s1 = \"Hello\"\n",
    "string_list_1 = []\n",
    "string1_len = len(s1)\n",
    "for i in range(string1_len):\n",
    "    string_list_1.append(s1)\n",
    "s2 = \"Ryan\"\n",
    "string_list_2 = []\n",
    "string2_len = len(s2)\n",
    "for i in range(string2_len):\n",
    "    string_list_2.append(s2)\n",
    "string_list_1 = string_list_1 + string_list_2\n",
    "print(\"String 1 -> \" + s1)\n",
    "print(\"String 2 -> \" + s2)\n",
    "print(string_list_1)"
   ]
  },
  {
   "cell_type": "code",
   "execution_count": 11,
   "id": "9409f9fd",
   "metadata": {},
   "outputs": [
    {
     "name": "stdout",
     "output_type": "stream",
     "text": [
      "['Hello', 'John', 'Noice', 'Hello', 'again', 'Hello']\n",
      "['olleH', 'John', 'Noice', 'Hello', 'again', 'Hello']\n"
     ]
    }
   ],
   "source": [
    "# 7. Remove the first occurrence of the given string from the list and replace it with its reverse string.\n",
    "\n",
    "#     List: [‘Hello’, ‘John’, ‘Noice’, ‘Hello’, ‘again’, ‘Hello’]\n",
    "\n",
    "#     String: Hello\n",
    "\n",
    "list7 = ['Hello', 'John', 'Noice', 'Hello', 'again', 'Hello']\n",
    "print(list7)\n",
    "string1 = \"Hello\"\n",
    "rev_string = string1[::-1]\n",
    "for i in range(len(list7)):\n",
    "    if(list7[i] == string1):\n",
    "        list7[i] = rev_string\n",
    "        break\n",
    "print(list7)"
   ]
  },
  {
   "cell_type": "code",
   "execution_count": 12,
   "id": "ee751e6c",
   "metadata": {},
   "outputs": [
    {
     "name": "stdout",
     "output_type": "stream",
     "text": [
      "{'FirstName': 'Rahul', 'age': 9, 'LastName': 'Vaidya', 'class': 10}\n"
     ]
    }
   ],
   "source": [
    "# 1. Merge two dictionaries.\n",
    "\n",
    "#     Dict_1: {“FirstName”:”Rahul”, “age”:9}       Dict2: {“LastName”:”Vaidya”, “class”:10}\n",
    "\n",
    "dict_1 = {\n",
    "    \"FirstName\": \"Rahul\",\n",
    "    \"age\":9\n",
    "}\n",
    "dict_2 = {\n",
    "    \"LastName\": \"Vaidya\",\n",
    "    \"class\":10\n",
    "}\n",
    "dict_1.update(dict_2)\n",
    "print(dict_1)"
   ]
  },
  {
   "cell_type": "code",
   "execution_count": 15,
   "id": "ed5d5f7b",
   "metadata": {},
   "outputs": [
    {
     "name": "stdout",
     "output_type": "stream",
     "text": [
      "Sum of all the keys:  16\n"
     ]
    }
   ],
   "source": [
    "#  Sum all the values of keys in a dictionary.\n",
    "\n",
    "#     Dictionary: {1:2, 3:4, 5:6, 7:8}\n",
    "\n",
    "dictionary = { 1:2, 3:4, 5:6, 7:8}\n",
    "key_sum = 0\n",
    "for i in dictionary:\n",
    "    key_sum += i\n",
    "print(\"Sum of all the keys: \", key_sum)"
   ]
  },
  {
   "cell_type": "code",
   "execution_count": 17,
   "id": "5e2e7d86",
   "metadata": {},
   "outputs": [
    {
     "name": "stdout",
     "output_type": "stream",
     "text": [
      "{1: [1, 2, 3], 2: [2, 3, 4, 5], 3: [2, 3, 4, 5, 6], 4: [1, 2]}\n",
      "{1: [1, 2, 3], 2: [2, 3, 4, 5], 3: [2, 3, 4, 5], 4: [1, 2]}\n"
     ]
    }
   ],
   "source": [
    "# 3. Count the values associated with each key in a dictionary. \n",
    "# If number of values associated with any key is greater than equal to 5, remove the last element from that value.\n",
    "\n",
    "#     Dictionary: {1:[1,2,3], 2:[2,3,4,5], 3:[2,3,4,5,6], 4:[1,2]}\n",
    "\n",
    "#     Output: {1:[1,2,3], 2:[2,3,4,5], 3:[2,3,4,5], 4:[1,2]}\n",
    "\n",
    "dictionary2 = {\n",
    "    1: [1,2,3],\n",
    "    2: [2,3,4,5],\n",
    "    3: [2,3,4,5,6],\n",
    "    4: [1,2]\n",
    "}\n",
    "print(dictionary2)\n",
    "for i in dictionary2:\n",
    "    if(len(dictionary2[i]) >= 5):\n",
    "        dictionary2[i].pop();\n",
    "print(dictionary2)\n"
   ]
  },
  {
   "cell_type": "code",
   "execution_count": 19,
   "id": "733d4c6a",
   "metadata": {},
   "outputs": [
    {
     "name": "stdout",
     "output_type": "stream",
     "text": [
      "{1, 2}\n"
     ]
    }
   ],
   "source": [
    "# 4. Make a list of unique values from dictionary values.\n",
    "\n",
    "#     Dictionary: {“apple”: 1, “mango”: 2, “orange”:1, “banana”:2}\n",
    "\n",
    "dictionary3 = { \"apple\": 1, \"mango\": 2, \"orange\":1, \"banana\":2}\n",
    "set1 = set()\n",
    "for i in dictionary3.values():\n",
    "    set1.add(i)\n",
    "print(set1)"
   ]
  },
  {
   "cell_type": "code",
   "execution_count": 20,
   "id": "29788cdb",
   "metadata": {},
   "outputs": [
    {
     "name": "stdout",
     "output_type": "stream",
     "text": [
      "{2: 0, 68: 1, 7: 2, 8: 3, 98: 4, 70: 5}\n"
     ]
    }
   ],
   "source": [
    "# 5. Make a dictionary. \n",
    "# The items in the list should be keys in the dictionary and their corresponding index should be values of the keys.\n",
    "\n",
    "#     [2,68,7,8,98,70]\n",
    "\n",
    "list8 = [2,68,7,8,98,70]\n",
    "dict1 = {}\n",
    "for i in range(len(list8)):\n",
    "    dict1[list8[i]] = i\n",
    "print(dict1)"
   ]
  },
  {
   "cell_type": "code",
   "execution_count": 21,
   "id": "96dd0c10",
   "metadata": {},
   "outputs": [
    {
     "name": "stdout",
     "output_type": "stream",
     "text": [
      "Value of python2 key in the given dictionary is ->  80\n"
     ]
    }
   ],
   "source": [
    "# 6. Access the value of key ‘python2’:\n",
    "\n",
    "# sampleDict = { \n",
    "\n",
    "#    \"sabudh\":{ \n",
    "\n",
    "#       \"intern\":{ \n",
    "\n",
    "#          \"name\":\"Mike\",\n",
    "\n",
    "#          \"marks\":{ \n",
    "\n",
    "#             \"python1\":70,\n",
    "\n",
    "#             \"python2\":80\n",
    "\n",
    "#          }\n",
    "\n",
    "#       }\n",
    "\n",
    "#    }\n",
    "\n",
    "# }\n",
    "\n",
    "sampleDict = {\n",
    "    \"sabudh\": {\n",
    "        \"intern\": {\n",
    "            \"name\": \"Mike\",\n",
    "            \"marks\": {\n",
    "                \"python1\":70,\n",
    "                \"python2\":80\n",
    "            }\n",
    "        }\n",
    "    }\n",
    "}\n",
    "print(\"Value of python2 key in the given dictionary is -> \", sampleDict[\"sabudh\"][\"intern\"][\"marks\"][\"python2\"])"
   ]
  },
  {
   "cell_type": "code",
   "execution_count": 23,
   "id": "78c1a296",
   "metadata": {},
   "outputs": [
    {
     "name": "stdout",
     "output_type": "stream",
     "text": [
      "Bunny exists\n"
     ]
    }
   ],
   "source": [
    "# 7.  Check if a value ‘bunny’ exists in a dictionary:\n",
    "\n",
    "# sampleDict = {'a': ‘antelope’, 'b': ‘bunny’, 'c': ‘cat’}\n",
    "\n",
    "sampleDict = {'a': 'antelope', 'b': 'bunny', 'c': 'cat'}\n",
    "found = False\n",
    "for i in sampleDict.values():\n",
    "    if(i == \"bunny\"):\n",
    "        found = True\n",
    "        break\n",
    "if(found):\n",
    "    print(\"Bunny exists\")\n",
    "else:\n",
    "    print(\"Bunny does not exist\")"
   ]
  },
  {
   "cell_type": "code",
   "execution_count": null,
   "id": "bfa0b44e",
   "metadata": {},
   "outputs": [],
   "source": [
    "# Name: Gautam Jain URN: 1905785 CRN: 1915312 Btech CSE C1"
   ]
  }
 ],
 "metadata": {
  "kernelspec": {
   "display_name": "Python 3 (ipykernel)",
   "language": "python",
   "name": "python3"
  },
  "language_info": {
   "codemirror_mode": {
    "name": "ipython",
    "version": 3
   },
   "file_extension": ".py",
   "mimetype": "text/x-python",
   "name": "python",
   "nbconvert_exporter": "python",
   "pygments_lexer": "ipython3",
   "version": "3.9.6"
  }
 },
 "nbformat": 4,
 "nbformat_minor": 5
}
