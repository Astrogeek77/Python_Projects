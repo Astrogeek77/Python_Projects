{
 "cells": [
  {
   "cell_type": "code",
   "execution_count": 1,
   "id": "952175bb",
   "metadata": {},
   "outputs": [
    {
     "name": "stdout",
     "output_type": "stream",
     "text": [
      "['lorem_90@tata.com s', 'coe-batch.3@sabudh.org n', 'akas.380@gmail.com 1']\n"
     ]
    }
   ],
   "source": [
    "import re\n",
    "\n",
    "para = \"\"\"Lorem Ipsum is simply dummy text of the printing and typesetting industry.\n",
    "Lorem Ipsum has been the industry's standard dummy text ever since the 1500s, when an\n",
    "unknown printer took a galley of type and lorem_90@tata.com scrambled it to make a\n",
    "type specimen book. It has survived coe-batch.3@sabudh.org not only five centuries, but\n",
    "also the leap into electronic typesetting, remaining essentially unchanged. It was\n",
    "popularised in the akas.380@gmail.com 1960s with the release of Letraset sheets\n",
    "containing Lorem Ipsum passages, and more recently with desktop publishing software\n",
    "like Aldus PageMaker including versions of Lorem Ipsum.\"\"\"\n",
    "\n",
    "result = re.findall(\"[^\\s]+@[^\\s]+\", para)\n",
    "\n",
    "print(result) "
   ]
  },
  {
   "cell_type": "code",
   "execution_count": null,
   "id": "53b046c0",
   "metadata": {},
   "outputs": [],
   "source": [
    "# Gautam Jain\n",
    "# 1915312 - 1905785\n",
    "# Btech CSE C1"
   ]
  }
 ],
 "metadata": {
  "kernelspec": {
   "display_name": "Python 3 (ipykernel)",
   "language": "python",
   "name": "python3"
  },
  "language_info": {
   "codemirror_mode": {
    "name": "ipython",
    "version": 3
   },
   "file_extension": ".py",
   "mimetype": "text/x-python",
   "name": "python",
   "nbconvert_exporter": "python",
   "pygments_lexer": "ipython3",
   "version": "3.9.6"
  }
 },
 "nbformat": 4,
 "nbformat_minor": 5
}
