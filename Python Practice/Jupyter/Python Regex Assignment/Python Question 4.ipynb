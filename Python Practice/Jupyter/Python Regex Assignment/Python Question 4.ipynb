{
 "cells": [
  {
   "cell_type": "code",
   "execution_count": 2,
   "id": "f29a3c03",
   "metadata": {},
   "outputs": [
    {
     "name": "stdout",
     "output_type": "stream",
     "text": [
      "['ranaswami@tata.com', 'Sukh-j@tatras.com', 'b.g@tata.com']\n"
     ]
    }
   ],
   "source": [
    "import re\n",
    "\n",
    "para = \"\"\"there are many variations of passages of Lorem Ipsum available, but the majority\n",
    "have suffered alteration in some form, by injected humour, or randomised words which don't look\n",
    "even slightly believable 876.985.8765. If you are going to www.google.com use a passage of\n",
    "Lorem Ipsum, you need to be sure there isn't ranaswami@tata.com anything embarrassing\n",
    "hidden in the middle of text. All the Lorem Ipsum http://www.lipsum.com/ generators\n",
    "123-897-9034 on the Internet niles_m@sabudh.org tend to repeat predefined chunks as necessary,\n",
    "making this the first true generator on the Internet. Sukh-j@tatras.com It uses a dictionary of over\n",
    "200 saks.89@jungleworks.com http://www.lipsum.com Latin words, combined with a handful of\n",
    "model sentence 895*098*1123 structures, to generate Lorem Ipsum which looks reasonable. The\n",
    "generated Lorem Ipsum is therefore b.g@tata.com always free from repetition, injected humour,\n",
    "or non-characteristic words etc.\"\"\"\n",
    "\n",
    "result = re.findall(\"[^\\s]+@tata\\.[^\\s]+|[^\\s]+@tatras\\.[^\\s]+\", para)\n",
    "print(result)"
   ]
  },
  {
   "cell_type": "code",
   "execution_count": null,
   "id": "310a4a9a",
   "metadata": {},
   "outputs": [],
   "source": [
    "# Gautam Jain\n",
    "# 1915312 - 1905785\n",
    "# Btech CSE C1"
   ]
  }
 ],
 "metadata": {
  "kernelspec": {
   "display_name": "Python 3 (ipykernel)",
   "language": "python",
   "name": "python3"
  },
  "language_info": {
   "codemirror_mode": {
    "name": "ipython",
    "version": 3
   },
   "file_extension": ".py",
   "mimetype": "text/x-python",
   "name": "python",
   "nbconvert_exporter": "python",
   "pygments_lexer": "ipython3",
   "version": "3.9.6"
  }
 },
 "nbformat": 4,
 "nbformat_minor": 5
}
