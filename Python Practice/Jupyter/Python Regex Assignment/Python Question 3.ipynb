{
 "cells": [
  {
   "cell_type": "code",
   "execution_count": 1,
   "id": "f29a3c03",
   "metadata": {},
   "outputs": [
    {
     "name": "stdout",
     "output_type": "stream",
     "text": [
      "['876.895.8765', '123-897-9034']\n"
     ]
    }
   ],
   "source": [
    "import re\n",
    "\n",
    "para = \"\"\"there are many variations of passages of Lorem Ipsum available, but the majority\n",
    "have suffered alteration in some form, by injected humour, or randomised words which don't look\n",
    "even slightly believable 876.895.8765. If you are going to www.google.com use a passage of\n",
    "Lorem Ipsum, you need to be sure there isn't anything embarrassing hidden in the middle of text.\n",
    "All the Lorem Ipsum http://www.lipsum.com/ generators 123-897-9034 on the Internet tend to\n",
    "repeat predefined chunks as necessary, making this the first true generator on the Internet. It uses\n",
    "a dictionary of over 200 http://www.lipsum.com Latin words, combined with a handful of model\n",
    "sentence 895*098*1123 structures, to generate Lorem Ipsum which looks reasonable. The\n",
    "generated Lorem Ipsum is therefore always free from repetition, injected humour, or\n",
    "non-characteristic words etc.\"\"\"\n",
    "\n",
    "result = re.findall(\"\\d{3}[*-.]\\d*89\\d*[*-.]\\d{4}\", para)\n",
    "print(result) "
   ]
  },
  {
   "cell_type": "code",
   "execution_count": null,
   "id": "310a4a9a",
   "metadata": {},
   "outputs": [],
   "source": [
    "# Gautam Jain\n",
    "# 1915312 - 1905785\n",
    "# Btech CSE C1"
   ]
  }
 ],
 "metadata": {
  "kernelspec": {
   "display_name": "Python 3 (ipykernel)",
   "language": "python",
   "name": "python3"
  },
  "language_info": {
   "codemirror_mode": {
    "name": "ipython",
    "version": 3
   },
   "file_extension": ".py",
   "mimetype": "text/x-python",
   "name": "python",
   "nbconvert_exporter": "python",
   "pygments_lexer": "ipython3",
   "version": "3.9.6"
  }
 },
 "nbformat": 4,
 "nbformat_minor": 5
}
