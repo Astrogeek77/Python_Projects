{
 "cells": [
  {
   "cell_type": "code",
   "execution_count": 3,
   "id": "952175bb",
   "metadata": {},
   "outputs": [
    {
     "name": "stdout",
     "output_type": "stream",
     "text": [
      "['D.O.B 16.9.1999', 'D.O.B 10/12/2021']\n"
     ]
    }
   ],
   "source": [
    "import re\n",
    "\n",
    "para = \"\"\"tthere are many variations of passages of Lorem Ipsum available, but the majority\n",
    "have suffered alteration in some form, by injected humour, or 10-10-1998randomised words\n",
    "which don't look even slightly believable 876.985.8765. If you are going to www.google.com use\n",
    "a passage of Lorem Ipsum, you need to be sure there isn't ranaswami@tata.com anything\n",
    "embarrassing hidden in the middle of text. All the Lorem Ipsum http://www.lipsum.com/\n",
    "generators 123-897-9034 on the Internet niles_m@sabudh.org tend D.O.B 16.9.1999 to repeat\n",
    "predefined chunks as necessary, making this the first true generator on the Internet.\n",
    "sukh-j@tatras.com It uses a dictionary of over 200 saks.89@jungleworks.com\n",
    "http://www.lipsum.com Latin words, combined with a handful of model sentence 895*898*1123\n",
    "structures, to generate Lorem Ipsum which looks reasonable. The generated D.O.B 10/12/2021\n",
    "Lorem Ipsum is therefore b.g@tata.com always free from repetition, injected humour, or\n",
    "non-characteristic words etc.\"\"\"\n",
    "\n",
    "result = re.findall(\"D\\.O\\.B[ ]\\d+[-./]\\d+[-./]\\d{4}\", para)\n",
    "\n",
    "print(result) "
   ]
  },
  {
   "cell_type": "code",
   "execution_count": null,
   "id": "53b046c0",
   "metadata": {},
   "outputs": [],
   "source": [
    "# Gautam Jain\n",
    "# 1915312 - 1905785\n",
    "# Btech CSE C1"
   ]
  }
 ],
 "metadata": {
  "kernelspec": {
   "display_name": "Python 3 (ipykernel)",
   "language": "python",
   "name": "python3"
  },
  "language_info": {
   "codemirror_mode": {
    "name": "ipython",
    "version": 3
   },
   "file_extension": ".py",
   "mimetype": "text/x-python",
   "name": "python",
   "nbconvert_exporter": "python",
   "pygments_lexer": "ipython3",
   "version": "3.9.6"
  }
 },
 "nbformat": 4,
 "nbformat_minor": 5
}
