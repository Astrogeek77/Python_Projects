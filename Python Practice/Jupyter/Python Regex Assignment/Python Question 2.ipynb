{
 "cells": [
  {
   "cell_type": "code",
   "execution_count": 1,
   "id": "952175bb",
   "metadata": {},
   "outputs": [
    {
     "name": "stdout",
     "output_type": "stream",
     "text": [
      "['www.google.com', 'http://www.lipsum.com/', 'http://www.lipsum.com']\n"
     ]
    }
   ],
   "source": [
    "import re\n",
    "\n",
    "para = \"\"\"there are many variations of passages of Lorem Ipsum available, but the majority have\n",
    "suffered alteration in some form, by injected humour, or randomised words which don't look even\n",
    "slightly believable. If you are going to www.google.com use a passage of Lorem Ipsum, you need to\n",
    "be sure there isn't anything embarrassing hidden in the middle of text. All the Lorem Ipsum\n",
    "http://www.lipsum.com/ generators on the Internet tend to repeat predefined chunks as necessary,\n",
    "making this the first true generator on the Internet. It uses a dictionary of over 200\n",
    "http://www.lipsum.com Latin words, combined with a handful of model sentence structures, to\n",
    "generate Lorem Ipsum which looks reasonable. The generated Lorem Ipsum is therefore always free\n",
    "from repetition, injected humour, or non-characteristic words etc.\"\"\"\n",
    "\n",
    "result = re.findall(\"[^\\s]*www[^\\s]+\", para)\n",
    "\n",
    "print(result) "
   ]
  },
  {
   "cell_type": "code",
   "execution_count": null,
   "id": "53b046c0",
   "metadata": {},
   "outputs": [],
   "source": [
    "# Gautam Jain\n",
    "# 1915312 - 1905785\n",
    "# Btech CSE C1"
   ]
  }
 ],
 "metadata": {
  "kernelspec": {
   "display_name": "Python 3 (ipykernel)",
   "language": "python",
   "name": "python3"
  },
  "language_info": {
   "codemirror_mode": {
    "name": "ipython",
    "version": 3
   },
   "file_extension": ".py",
   "mimetype": "text/x-python",
   "name": "python",
   "nbconvert_exporter": "python",
   "pygments_lexer": "ipython3",
   "version": "3.9.6"
  }
 },
 "nbformat": 4,
 "nbformat_minor": 5
}
